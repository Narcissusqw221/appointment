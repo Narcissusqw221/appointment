{
 "cells": [
  {
   "cell_type": "code",
   "execution_count": 1,
   "id": "96c4303c",
   "metadata": {},
   "outputs": [],
   "source": [
    "import pandas as pd\n",
    "import numpy as np\n",
    "import seaborn as sns\n",
    "import matplotlib.pyplot as plt\n",
    "#上面是导入需要用到的库"
   ]
  },
  {
   "cell_type": "code",
   "execution_count": 3,
   "id": "7899b54b",
   "metadata": {},
   "outputs": [
    {
     "data": {
      "text/html": [
       "<div>\n",
       "<style scoped>\n",
       "    .dataframe tbody tr th:only-of-type {\n",
       "        vertical-align: middle;\n",
       "    }\n",
       "\n",
       "    .dataframe tbody tr th {\n",
       "        vertical-align: top;\n",
       "    }\n",
       "\n",
       "    .dataframe thead th {\n",
       "        text-align: right;\n",
       "    }\n",
       "</style>\n",
       "<table border=\"1\" class=\"dataframe\">\n",
       "  <thead>\n",
       "    <tr style=\"text-align: right;\">\n",
       "      <th></th>\n",
       "      <th>job_id</th>\n",
       "      <th>title</th>\n",
       "      <th>location</th>\n",
       "      <th>department</th>\n",
       "      <th>salary_range</th>\n",
       "      <th>company_profile</th>\n",
       "      <th>description</th>\n",
       "      <th>requirements</th>\n",
       "      <th>benefits</th>\n",
       "      <th>telecommuting</th>\n",
       "      <th>has_company_logo</th>\n",
       "      <th>has_questions</th>\n",
       "      <th>employment_type</th>\n",
       "      <th>required_experience</th>\n",
       "      <th>required_education</th>\n",
       "      <th>industry</th>\n",
       "      <th>function</th>\n",
       "    </tr>\n",
       "  </thead>\n",
       "  <tbody>\n",
       "    <tr>\n",
       "      <th>0</th>\n",
       "      <td>8f154fcd1e9b4519ae705957e47bf8f5</td>\n",
       "      <td>Marketing / Sales Executives</td>\n",
       "      <td>IN, KA, Bangalore</td>\n",
       "      <td>Marketing</td>\n",
       "      <td>NaN</td>\n",
       "      <td>Who are we?Creators Lab (aka #URL_285fcfb70c84...</td>\n",
       "      <td>Who are we looking for: Marketing / Sales Exec...</td>\n",
       "      <td>Education and ExperienceA college degree or eq...</td>\n",
       "      <td>Work With Us and GetResponsibility: What you d...</td>\n",
       "      <td>0</td>\n",
       "      <td>1</td>\n",
       "      <td>1</td>\n",
       "      <td>Full-time</td>\n",
       "      <td>Not Applicable</td>\n",
       "      <td>Bachelor's Degree</td>\n",
       "      <td>Information Technology and Services</td>\n",
       "      <td>Marketing</td>\n",
       "    </tr>\n",
       "    <tr>\n",
       "      <th>1</th>\n",
       "      <td>8f15fe4c47c846cfa6ccb2ea1fd54102</td>\n",
       "      <td>I want to work at Vend in AUCKLAND</td>\n",
       "      <td>NZ, N, Auckland</td>\n",
       "      <td>All</td>\n",
       "      <td>NaN</td>\n",
       "      <td>Vend is looking for some awesome new talent to...</td>\n",
       "      <td>No suitable jobs right now on our jobs page?  ...</td>\n",
       "      <td>Are you enthusiastic about the retail industry...</td>\n",
       "      <td>When you work at Vend you can expect the follo...</td>\n",
       "      <td>0</td>\n",
       "      <td>1</td>\n",
       "      <td>1</td>\n",
       "      <td>NaN</td>\n",
       "      <td>NaN</td>\n",
       "      <td>NaN</td>\n",
       "      <td>NaN</td>\n",
       "      <td>NaN</td>\n",
       "    </tr>\n",
       "    <tr>\n",
       "      <th>2</th>\n",
       "      <td>8f1978db679f40448dc6ef3bb1747434</td>\n",
       "      <td>Mechanical Engineer</td>\n",
       "      <td>NG, LA, lagos</td>\n",
       "      <td>Admin</td>\n",
       "      <td>NaN</td>\n",
       "      <td>NaN</td>\n",
       "      <td>Qualifications and Requirements:The ideal cand...</td>\n",
       "      <td>Qualifications and Requirements:The ideal cand...</td>\n",
       "      <td>Qualifications and Requirements:The ideal cand...</td>\n",
       "      <td>0</td>\n",
       "      <td>1</td>\n",
       "      <td>0</td>\n",
       "      <td>Full-time</td>\n",
       "      <td>Director</td>\n",
       "      <td>Master's Degree</td>\n",
       "      <td>Airlines/Aviation</td>\n",
       "      <td>Engineering</td>\n",
       "    </tr>\n",
       "    <tr>\n",
       "      <th>3</th>\n",
       "      <td>8f22bb4c9c524034a1f01b96ac98d7be</td>\n",
       "      <td>M16 9HQ Warehousing Apprenticeship Under NAS 1...</td>\n",
       "      <td>GB, MAN, Old Trafford</td>\n",
       "      <td>NaN</td>\n",
       "      <td>NaN</td>\n",
       "      <td>Established on the principles that full time e...</td>\n",
       "      <td>This is fantastic opportunity for someone want...</td>\n",
       "      <td>Government funding is only available for 16-18...</td>\n",
       "      <td>Future Prospects</td>\n",
       "      <td>0</td>\n",
       "      <td>1</td>\n",
       "      <td>0</td>\n",
       "      <td>Full-time</td>\n",
       "      <td>Internship</td>\n",
       "      <td>High School or equivalent</td>\n",
       "      <td>Warehousing</td>\n",
       "      <td>NaN</td>\n",
       "    </tr>\n",
       "    <tr>\n",
       "      <th>4</th>\n",
       "      <td>8f24bad7d85e45698c3369c178265a17</td>\n",
       "      <td>Embedded and Application Engineer</td>\n",
       "      <td>NZ, N, Auckland</td>\n",
       "      <td>Engineering</td>\n",
       "      <td>NaN</td>\n",
       "      <td>Want to be part of a NZ success story that’s g...</td>\n",
       "      <td>We are #URL_f33bebd1256d2e62399cf4a277a4a8731d...</td>\n",
       "      <td>As an expert in Embedded Development you will ...</td>\n",
       "      <td>We are in an exciting growth phase, if you wou...</td>\n",
       "      <td>0</td>\n",
       "      <td>1</td>\n",
       "      <td>1</td>\n",
       "      <td>Full-time</td>\n",
       "      <td>Associate</td>\n",
       "      <td>Bachelor's Degree</td>\n",
       "      <td>Information Technology and Services</td>\n",
       "      <td>Engineering</td>\n",
       "    </tr>\n",
       "  </tbody>\n",
       "</table>\n",
       "</div>"
      ],
      "text/plain": [
       "                             job_id  \\\n",
       "0  8f154fcd1e9b4519ae705957e47bf8f5   \n",
       "1  8f15fe4c47c846cfa6ccb2ea1fd54102   \n",
       "2  8f1978db679f40448dc6ef3bb1747434   \n",
       "3  8f22bb4c9c524034a1f01b96ac98d7be   \n",
       "4  8f24bad7d85e45698c3369c178265a17   \n",
       "\n",
       "                                               title               location  \\\n",
       "0                       Marketing / Sales Executives      IN, KA, Bangalore   \n",
       "1                 I want to work at Vend in AUCKLAND        NZ, N, Auckland   \n",
       "2                                Mechanical Engineer          NG, LA, lagos   \n",
       "3  M16 9HQ Warehousing Apprenticeship Under NAS 1...  GB, MAN, Old Trafford   \n",
       "4                  Embedded and Application Engineer       NZ, N, Auckland    \n",
       "\n",
       "    department salary_range  \\\n",
       "0    Marketing          NaN   \n",
       "1          All          NaN   \n",
       "2        Admin          NaN   \n",
       "3          NaN          NaN   \n",
       "4  Engineering          NaN   \n",
       "\n",
       "                                     company_profile  \\\n",
       "0  Who are we?Creators Lab (aka #URL_285fcfb70c84...   \n",
       "1  Vend is looking for some awesome new talent to...   \n",
       "2                                                NaN   \n",
       "3  Established on the principles that full time e...   \n",
       "4  Want to be part of a NZ success story that’s g...   \n",
       "\n",
       "                                         description  \\\n",
       "0  Who are we looking for: Marketing / Sales Exec...   \n",
       "1  No suitable jobs right now on our jobs page?  ...   \n",
       "2  Qualifications and Requirements:The ideal cand...   \n",
       "3  This is fantastic opportunity for someone want...   \n",
       "4  We are #URL_f33bebd1256d2e62399cf4a277a4a8731d...   \n",
       "\n",
       "                                        requirements  \\\n",
       "0  Education and ExperienceA college degree or eq...   \n",
       "1  Are you enthusiastic about the retail industry...   \n",
       "2  Qualifications and Requirements:The ideal cand...   \n",
       "3  Government funding is only available for 16-18...   \n",
       "4  As an expert in Embedded Development you will ...   \n",
       "\n",
       "                                            benefits  telecommuting  \\\n",
       "0  Work With Us and GetResponsibility: What you d...              0   \n",
       "1  When you work at Vend you can expect the follo...              0   \n",
       "2  Qualifications and Requirements:The ideal cand...              0   \n",
       "3                                   Future Prospects              0   \n",
       "4  We are in an exciting growth phase, if you wou...              0   \n",
       "\n",
       "   has_company_logo  has_questions employment_type required_experience  \\\n",
       "0                 1              1       Full-time      Not Applicable   \n",
       "1                 1              1             NaN                 NaN   \n",
       "2                 1              0       Full-time            Director   \n",
       "3                 1              0       Full-time          Internship   \n",
       "4                 1              1       Full-time           Associate   \n",
       "\n",
       "          required_education                             industry     function  \n",
       "0          Bachelor's Degree  Information Technology and Services    Marketing  \n",
       "1                        NaN                                  NaN          NaN  \n",
       "2            Master's Degree                    Airlines/Aviation  Engineering  \n",
       "3  High School or equivalent                          Warehousing          NaN  \n",
       "4          Bachelor's Degree  Information Technology and Services  Engineering  "
      ]
     },
     "execution_count": 3,
     "metadata": {},
     "output_type": "execute_result"
    }
   ],
   "source": [
    "data=pd.read_csv(\"fake_job_postings_train.csv\")#打开训练数据集\n",
    "test=pd.read_csv(\"fake_job_postings_test.csv\")#打开测试数据集\n",
    "data.head()\n",
    "test.head()"
   ]
  },
  {
   "cell_type": "code",
   "execution_count": 4,
   "id": "40e0d17e",
   "metadata": {},
   "outputs": [
    {
     "name": "stderr",
     "output_type": "stream",
     "text": [
      "C:\\Users\\lwb13\\anaconda3\\lib\\site-packages\\seaborn\\distributions.py:2619: FutureWarning: `distplot` is a deprecated function and will be removed in a future version. Please adapt your code to use either `displot` (a figure-level function with similar flexibility) or `histplot` (an axes-level function for histograms).\n",
      "  warnings.warn(msg, FutureWarning)\n"
     ]
    },
    {
     "data": {
      "image/png": "[encoded data removed]",
      "text/plain": [
       "<Figure size 768x576 with 1 Axes>"
      ]
     },
     "metadata": {},
     "output_type": "display_data"
    }
   ],
   "source": [
    "plt.figure(dpi=120)\n",
    "sns.set(style='dark')\n",
    "sns.set_style(\"dark\", {\"axes.facecolor\": \"#e9f3ea\"})#修改背景色\n",
    "g=sns.distplot(data['fraudulent'],hist=True,#默认绘制直方图，详细参考plt.hist\n",
    "               kde=True,color=\"#098154\")"
   ]
  },
  {
   "cell_type": "code",
   "execution_count": 5,
   "id": "c9c47d33",
   "metadata": {},
   "outputs": [
    {
     "name": "stdout",
     "output_type": "stream",
     "text": [
      "0    9514\n",
      "1     485\n",
      "Name: fraudulent, dtype: int64\n"
     ]
    }
   ],
   "source": [
    "plt.show()\n",
    "print(data['fraudulent'].value_counts())#fraudulen取值分布"
   ]
  },
  {
   "cell_type": "code",
   "execution_count": 6,
   "id": "6ccbeac3",
   "metadata": {},
   "outputs": [
    {
     "name": "stdout",
     "output_type": "stream",
     "text": [
      "<class 'pandas.core.frame.DataFrame'>\n",
      "RangeIndex: 9999 entries, 0 to 9998\n",
      "Data columns (total 18 columns):\n",
      " #   Column               Non-Null Count  Dtype \n",
      "---  ------               --------------  ----- \n",
      " 0   job_id               9999 non-null   object\n",
      " 1   title                9999 non-null   object\n",
      " 2   location             9801 non-null   object\n",
      " 3   department           3611 non-null   object\n",
      " 4   salary_range         1606 non-null   object\n",
      " 5   company_profile      8114 non-null   object\n",
      " 6   description          9999 non-null   object\n",
      " 7   requirements         8434 non-null   object\n",
      " 8   benefits             5917 non-null   object\n",
      " 9   telecommuting        9999 non-null   int64 \n",
      " 10  has_company_logo     9999 non-null   int64 \n",
      " 11  has_questions        9999 non-null   int64 \n",
      " 12  employment_type      8007 non-null   object\n",
      " 13  required_experience  6039 non-null   object\n",
      " 14  required_education   5451 non-null   object\n",
      " 15  industry             7218 non-null   object\n",
      " 16  function             6345 non-null   object\n",
      " 17  fraudulent           9999 non-null   int64 \n",
      "dtypes: int64(4), object(14)\n",
      "memory usage: 1.4+ MB\n",
      "<class 'pandas.core.frame.DataFrame'>\n",
      "RangeIndex: 7881 entries, 0 to 7880\n",
      "Data columns (total 17 columns):\n",
      " #   Column               Non-Null Count  Dtype \n",
      "---  ------               --------------  ----- \n",
      " 0   job_id               7881 non-null   object\n",
      " 1   title                7881 non-null   object\n",
      " 2   location             7733 non-null   object\n",
      " 3   department           2722 non-null   object\n",
      " 4   salary_range         1262 non-null   object\n",
      " 5   company_profile      6458 non-null   object\n",
      " 6   description          7880 non-null   object\n",
      " 7   requirements         6751 non-null   object\n",
      " 8   benefits             4753 non-null   object\n",
      " 9   telecommuting        7881 non-null   int64 \n",
      " 10  has_company_logo     7881 non-null   int64 \n",
      " 11  has_questions        7881 non-null   int64 \n",
      " 12  employment_type      6402 non-null   object\n",
      " 13  required_experience  4791 non-null   object\n",
      " 14  required_education   4324 non-null   object\n",
      " 15  industry             5759 non-null   object\n",
      " 16  function             5080 non-null   object\n",
      "dtypes: int64(3), object(14)\n",
      "memory usage: 1.0+ MB\n"
     ]
    }
   ],
   "source": [
    "data.info()#data数据信息\n",
    "test.info()#test数据信息"
   ]
  },
  {
   "cell_type": "code",
   "execution_count": 7,
   "id": "11f6efa4",
   "metadata": {},
   "outputs": [
    {
     "data": {
      "text/html": [
       "<div>\n",
       "<style scoped>\n",
       "    .dataframe tbody tr th:only-of-type {\n",
       "        vertical-align: middle;\n",
       "    }\n",
       "\n",
       "    .dataframe tbody tr th {\n",
       "        vertical-align: top;\n",
       "    }\n",
       "\n",
       "    .dataframe thead th {\n",
       "        text-align: right;\n",
       "    }\n",
       "</style>\n",
       "<table border=\"1\" class=\"dataframe\">\n",
       "  <thead>\n",
       "    <tr style=\"text-align: right;\">\n",
       "      <th></th>\n",
       "      <th>telecommuting</th>\n",
       "      <th>has_company_logo</th>\n",
       "      <th>has_questions</th>\n",
       "    </tr>\n",
       "  </thead>\n",
       "  <tbody>\n",
       "    <tr>\n",
       "      <th>count</th>\n",
       "      <td>7881.000000</td>\n",
       "      <td>7881.000000</td>\n",
       "      <td>7881.000000</td>\n",
       "    </tr>\n",
       "    <tr>\n",
       "      <th>mean</th>\n",
       "      <td>0.043649</td>\n",
       "      <td>0.795838</td>\n",
       "      <td>0.490166</td>\n",
       "    </tr>\n",
       "    <tr>\n",
       "      <th>std</th>\n",
       "      <td>0.204327</td>\n",
       "      <td>0.403113</td>\n",
       "      <td>0.499935</td>\n",
       "    </tr>\n",
       "    <tr>\n",
       "      <th>min</th>\n",
       "      <td>0.000000</td>\n",
       "      <td>0.000000</td>\n",
       "      <td>0.000000</td>\n",
       "    </tr>\n",
       "    <tr>\n",
       "      <th>25%</th>\n",
       "      <td>0.000000</td>\n",
       "      <td>1.000000</td>\n",
       "      <td>0.000000</td>\n",
       "    </tr>\n",
       "    <tr>\n",
       "      <th>50%</th>\n",
       "      <td>0.000000</td>\n",
       "      <td>1.000000</td>\n",
       "      <td>0.000000</td>\n",
       "    </tr>\n",
       "    <tr>\n",
       "      <th>75%</th>\n",
       "      <td>0.000000</td>\n",
       "      <td>1.000000</td>\n",
       "      <td>1.000000</td>\n",
       "    </tr>\n",
       "    <tr>\n",
       "      <th>max</th>\n",
       "      <td>1.000000</td>\n",
       "      <td>1.000000</td>\n",
       "      <td>1.000000</td>\n",
       "    </tr>\n",
       "  </tbody>\n",
       "</table>\n",
       "</div>"
      ],
      "text/plain": [
       "       telecommuting  has_company_logo  has_questions\n",
       "count    7881.000000       7881.000000    7881.000000\n",
       "mean        0.043649          0.795838       0.490166\n",
       "std         0.204327          0.403113       0.499935\n",
       "min         0.000000          0.000000       0.000000\n",
       "25%         0.000000          1.000000       0.000000\n",
       "50%         0.000000          1.000000       0.000000\n",
       "75%         0.000000          1.000000       1.000000\n",
       "max         1.000000          1.000000       1.000000"
      ]
     },
     "execution_count": 7,
     "metadata": {},
     "output_type": "execute_result"
    }
   ],
   "source": [
    "data.describe()#data数据描述统计，包括总数目，均值、标准差，最小值，最大值，四分位数\n",
    "test.describe()#test数据描述统计，包括总数目，均值、标准差，最小值，最大值，四分位数"
   ]
  },
  {
   "cell_type": "code",
   "execution_count": 8,
   "id": "75fba8d7",
   "metadata": {},
   "outputs": [
    {
     "data": {
      "text/plain": [
       "job_id                    0\n",
       "title                     0\n",
       "location                148\n",
       "department             5159\n",
       "salary_range           6619\n",
       "company_profile        1423\n",
       "description               1\n",
       "requirements           1130\n",
       "benefits               3128\n",
       "telecommuting             0\n",
       "has_company_logo          0\n",
       "has_questions             0\n",
       "employment_type        1479\n",
       "required_experience    3090\n",
       "required_education     3557\n",
       "industry               2122\n",
       "function               2801\n",
       "dtype: int64"
      ]
     },
     "execution_count": 8,
     "metadata": {},
     "output_type": "execute_result"
    }
   ],
   "source": [
    "data.isna().sum()#data各列缺失值统计\n",
    "test.isna().sum()#test各列缺失值统计"
   ]
  },
  {
   "cell_type": "code",
   "execution_count": 9,
   "id": "ab7d2a23",
   "metadata": {},
   "outputs": [],
   "source": [
    "bin_features = ['telecommuting', 'has_company_logo', 'has_questions']#二值变量\n",
    "cat_features = ['department', 'employment_type', 'required_experience', \n",
    "                'required_education', 'industry', 'function']#多分类变量\n",
    "text_features = ['title', 'company_profile', 'description', 'requirements', 'benefits']#文本特征变量\n",
    "complex_features = ['location', 'salary_range']#复杂变量"
   ]
  },
  {
   "cell_type": "code",
   "execution_count": 10,
   "id": "907c15e3",
   "metadata": {},
   "outputs": [],
   "source": [
    "data.drop('job_id', axis=1, inplace=True)#删掉job_id变量，改变了原数据\n",
    "test.drop('job_id', axis=1, inplace=True)#删掉job_id变量，改变了原数据"
   ]
  },
  {
   "cell_type": "code",
   "execution_count": 11,
   "id": "0ee24996",
   "metadata": {},
   "outputs": [],
   "source": [
    "#把data中的文本变量转换为二值变量\n",
    "for feature_name in text_features[1:]:\n",
    "    unspec_feature_name = f'{feature_name}_specified'\n",
    "    data[unspec_feature_name] = (~data[feature_name].isna()).astype('int')\n",
    "    bin_features += [unspec_feature_name]\n",
    "#把test中的文本变量转换为二值变量\n",
    "for feature_name in text_features[1:]:\n",
    "    unspec_feature_name = f'{feature_name}_specified'\n",
    "    test[unspec_feature_name] = (~test[feature_name].isna()).astype('int')"
   ]
  },
  {
   "cell_type": "code",
   "execution_count": 12,
   "id": "e26ef921",
   "metadata": {},
   "outputs": [
    {
     "data": {
      "text/plain": [
       "['telecommuting',\n",
       " 'has_company_logo',\n",
       " 'has_questions',\n",
       " 'company_profile_specified',\n",
       " 'description_specified',\n",
       " 'requirements_specified',\n",
       " 'benefits_specified']"
      ]
     },
     "execution_count": 12,
     "metadata": {},
     "output_type": "execute_result"
    }
   ],
   "source": [
    "bin_features"
   ]
  },
  {
   "cell_type": "code",
   "execution_count": 13,
   "id": "11fbaaba",
   "metadata": {},
   "outputs": [
    {
     "data": {
      "text/html": [
       "<div>\n",
       "<style scoped>\n",
       "    .dataframe tbody tr th:only-of-type {\n",
       "        vertical-align: middle;\n",
       "    }\n",
       "\n",
       "    .dataframe tbody tr th {\n",
       "        vertical-align: top;\n",
       "    }\n",
       "\n",
       "    .dataframe thead th {\n",
       "        text-align: right;\n",
       "    }\n",
       "</style>\n",
       "<table border=\"1\" class=\"dataframe\">\n",
       "  <thead>\n",
       "    <tr style=\"text-align: right;\">\n",
       "      <th></th>\n",
       "      <th>title</th>\n",
       "      <th>company_profile</th>\n",
       "      <th>description</th>\n",
       "      <th>requirements</th>\n",
       "      <th>benefits</th>\n",
       "    </tr>\n",
       "  </thead>\n",
       "  <tbody>\n",
       "    <tr>\n",
       "      <th>0</th>\n",
       "      <td>Office Manager / HR</td>\n",
       "      <td>NaN</td>\n",
       "      <td>Based in the heart of the City, this exception...</td>\n",
       "      <td>You will have previous experience in running a...</td>\n",
       "      <td>Excellent Salaries Company Benefit PackagesInt...</td>\n",
       "    </tr>\n",
       "    <tr>\n",
       "      <th>1</th>\n",
       "      <td>Director of Account Management</td>\n",
       "      <td>NaN</td>\n",
       "      <td>The Director of Account Management brings stro...</td>\n",
       "      <td>8+ years experience in an account management a...</td>\n",
       "      <td>NaN</td>\n",
       "    </tr>\n",
       "    <tr>\n",
       "      <th>2</th>\n",
       "      <td>Brand Manager [Contract position]</td>\n",
       "      <td>Since 1978Our goal has been to create engaging...</td>\n",
       "      <td>Drake Cooper Brand Managers help clients grow ...</td>\n",
       "      <td>Education:  BS/BA degree in advertising / mar...</td>\n",
       "      <td>ABOUT DRAKE COOPERWe are a Northwest U.S. adve...</td>\n",
       "    </tr>\n",
       "    <tr>\n",
       "      <th>3</th>\n",
       "      <td>Web Developer</td>\n",
       "      <td>We are a technology focused company with an es...</td>\n",
       "      <td>This position is for a talented PHP/MYSQL/JQue...</td>\n",
       "      <td>Solid object-oriented design, programming, and...</td>\n",
       "      <td>NaN</td>\n",
       "    </tr>\n",
       "    <tr>\n",
       "      <th>4</th>\n",
       "      <td>Performance Improvement Director</td>\n",
       "      <td>NaN</td>\n",
       "      <td>Oversees implementation and operation of Perfo...</td>\n",
       "      <td>Quality-oriented consulting company with a foc...</td>\n",
       "      <td>Full-time position.Quality benefits package of...</td>\n",
       "    </tr>\n",
       "  </tbody>\n",
       "</table>\n",
       "</div>"
      ],
      "text/plain": [
       "                               title  \\\n",
       "0              Office Manager / HR     \n",
       "1     Director of Account Management   \n",
       "2  Brand Manager [Contract position]   \n",
       "3                      Web Developer   \n",
       "4   Performance Improvement Director   \n",
       "\n",
       "                                     company_profile  \\\n",
       "0                                                NaN   \n",
       "1                                                NaN   \n",
       "2  Since 1978Our goal has been to create engaging...   \n",
       "3  We are a technology focused company with an es...   \n",
       "4                                                NaN   \n",
       "\n",
       "                                         description  \\\n",
       "0  Based in the heart of the City, this exception...   \n",
       "1  The Director of Account Management brings stro...   \n",
       "2  Drake Cooper Brand Managers help clients grow ...   \n",
       "3  This position is for a talented PHP/MYSQL/JQue...   \n",
       "4  Oversees implementation and operation of Perfo...   \n",
       "\n",
       "                                        requirements  \\\n",
       "0  You will have previous experience in running a...   \n",
       "1  8+ years experience in an account management a...   \n",
       "2   Education:  BS/BA degree in advertising / mar...   \n",
       "3  Solid object-oriented design, programming, and...   \n",
       "4  Quality-oriented consulting company with a foc...   \n",
       "\n",
       "                                            benefits  \n",
       "0  Excellent Salaries Company Benefit PackagesInt...  \n",
       "1                                                NaN  \n",
       "2  ABOUT DRAKE COOPERWe are a Northwest U.S. adve...  \n",
       "3                                                NaN  \n",
       "4  Full-time position.Quality benefits package of...  "
      ]
     },
     "execution_count": 13,
     "metadata": {},
     "output_type": "execute_result"
    }
   ],
   "source": [
    "data.head()[text_features]"
   ]
  },
  {
   "cell_type": "code",
   "execution_count": 14,
   "id": "af868439",
   "metadata": {},
   "outputs": [],
   "source": [
    "for feature_name in text_features[1:]:\n",
    "    test[feature_name].fillna('', inplace=True)\n",
    "for feature_name in text_features[1:]:\n",
    "    data[feature_name].fillna('', inplace=True)"
   ]
  },
  {
   "cell_type": "code",
   "execution_count": 15,
   "id": "7d5a5a32",
   "metadata": {},
   "outputs": [],
   "source": [
    "#加载nltk库\n",
    "import nltk\n",
    "from nltk.corpus import stopwords\n",
    "from nltk.tokenize import word_tokenize\n",
    "from nltk.stem import PorterStemmer\n",
    "languages = ['english']"
   ]
  },
  {
   "cell_type": "code",
   "execution_count": 16,
   "id": "c33952e3",
   "metadata": {},
   "outputs": [],
   "source": [
    "stop_words = set(stopwords.words(languages))"
   ]
  },
  {
   "cell_type": "code",
   "execution_count": 17,
   "id": "e8784990",
   "metadata": {},
   "outputs": [
    {
     "name": "stdout",
     "output_type": "stream",
     "text": [
      "0                    GB, LND, \n",
      "1        US, CA, San Francisco\n",
      "2                  US, , Boise\n",
      "3                       GR, , \n",
      "4                       US, , \n",
      "5     US, CA, Huntington beach\n",
      "6       US, VA, Virginia Beach\n",
      "7                US, ND, Fargo\n",
      "8                  EG, C, Maad\n",
      "9              US, IL, Chicago\n",
      "10              VI, , Multiple\n",
      "11             US, IL, Chicago\n",
      "12            ES, VC, Valencia\n",
      "13          GB, ESS, Brentwood\n",
      "14              US, CO, Denver\n",
      "Name: location, dtype: object\n"
     ]
    }
   ],
   "source": [
    "location = data['location'].copy()#获取data中location字段的值\n",
    "print(location.head(15))#显示location前15行的值"
   ]
  },
  {
   "cell_type": "code",
   "execution_count": 18,
   "id": "e5624645",
   "metadata": {},
   "outputs": [
    {
     "data": {
      "text/plain": [
       "0         IN, KA, Bangalore\n",
       "1           NZ, N, Auckland\n",
       "2             NG, LA, lagos\n",
       "3     GB, MAN, Old Trafford\n",
       "4          NZ, N, Auckland \n",
       "5     US, NY, New York City\n",
       "6                    NZ, , \n",
       "7                 GB, LND, \n",
       "8           CA, ON, London \n",
       "9       GB, BIR, Birmingham\n",
       "10            US, TX, Plano\n",
       "11           US, TX, Austin\n",
       "12                      NaN\n",
       "13          GB, LND, London\n",
       "14           US, NC, Durham\n",
       "Name: location, dtype: object"
      ]
     },
     "execution_count": 18,
     "metadata": {},
     "output_type": "execute_result"
    }
   ],
   "source": [
    "location_test = test['location'].copy()#获取test中location字段的值\n",
    "location_test.head(15)#显示location前15行的值"
   ]
  },
  {
   "cell_type": "code",
   "execution_count": 19,
   "id": "c95b8773",
   "metadata": {},
   "outputs": [],
   "source": [
    "location_splitted = list(location.str.split(', ').values)#location按,进行分割成list结构\n",
    "location_splitted_test = list(location_test.str.split(', ').values)#location按,进行分割成list结构"
   ]
  },
  {
   "cell_type": "code",
   "execution_count": 20,
   "id": "6dbc09d6",
   "metadata": {},
   "outputs": [],
   "source": [
    "#处理location_splitted,如果没值，就设置为Unpecified\n",
    "for loc_ind, loc in enumerate(location_splitted):\n",
    "    if loc is np.nan:\n",
    "        location_splitted[loc_ind] = ['Unpecified'] * 3\n",
    "    else:\n",
    "        for el_ind, el in enumerate(loc):\n",
    "            if el == '':\n",
    "                loc[el_ind] = 'Unpecified'"
   ]
  },
  {
   "cell_type": "code",
   "execution_count": 21,
   "id": "6d8a0c41",
   "metadata": {},
   "outputs": [],
   "source": [
    "#处理location_splitted_test,如果没值，就设置为Unpecified\n",
    "for loc_ind, loc in enumerate(location_splitted_test):\n",
    "    if loc is np.nan:\n",
    "        location_splitted_test[loc_ind] = ['Unpecified'] * 3\n",
    "    else:\n",
    "        for el_ind, el in enumerate(loc):\n",
    "            if el == '':\n",
    "                loc[el_ind] = 'Unpecified'"
   ]
  },
  {
   "cell_type": "code",
   "execution_count": 22,
   "id": "dfc8785f",
   "metadata": {},
   "outputs": [],
   "source": [
    "location_splitted = list(map(lambda loc: list(loc), location_splitted))#location按,进行分割成list结构\n",
    "location_splitted_test = list(map(lambda loc: list(loc), location_splitted_test))#location按,进行分割成list结构"
   ]
  },
  {
   "cell_type": "code",
   "execution_count": 23,
   "id": "8447ec15",
   "metadata": {},
   "outputs": [],
   "source": [
    "#处理location_splitted,如果没值，就设置为Unpecified\n",
    "for loc_ind, loc in enumerate(location_splitted_test):\n",
    "    if len(loc) > 3:\n",
    "        location_splitted_test[loc_ind] = loc[:2] + [', '.join(loc[2:])]\n",
    "    if len(loc) < 3:\n",
    "        location_splitted_test[loc_ind] += ['Unpecified'] * 2\n",
    "#处理location_splitted_test,如果没值，就设置为Unpecified\n",
    "for loc_ind, loc in enumerate(location_splitted):\n",
    "    if len(loc) > 3:\n",
    "        location_splitted[loc_ind] = loc[:2] + [', '.join(loc[2:])]\n",
    "    if len(loc) < 3:\n",
    "        location_splitted[loc_ind] += ['Unpecified'] * 2"
   ]
  },
  {
   "cell_type": "code",
   "execution_count": 24,
   "id": "3830a6e0",
   "metadata": {},
   "outputs": [],
   "source": [
    "#生成新的data_location,test_location 数据框，含有三列country, state, city\n",
    "data_location = pd.DataFrame(location_splitted, columns=['country', 'state', 'city'])\n",
    "test_location = pd.DataFrame(location_splitted_test, columns=['country', 'state', 'city'])"
   ]
  },
  {
   "cell_type": "code",
   "execution_count": 25,
   "id": "5c336c5f",
   "metadata": {},
   "outputs": [
    {
     "data": {
      "text/html": [
       "<div>\n",
       "<style scoped>\n",
       "    .dataframe tbody tr th:only-of-type {\n",
       "        vertical-align: middle;\n",
       "    }\n",
       "\n",
       "    .dataframe tbody tr th {\n",
       "        vertical-align: top;\n",
       "    }\n",
       "\n",
       "    .dataframe thead th {\n",
       "        text-align: right;\n",
       "    }\n",
       "</style>\n",
       "<table border=\"1\" class=\"dataframe\">\n",
       "  <thead>\n",
       "    <tr style=\"text-align: right;\">\n",
       "      <th></th>\n",
       "      <th>country</th>\n",
       "      <th>state</th>\n",
       "      <th>city</th>\n",
       "    </tr>\n",
       "  </thead>\n",
       "  <tbody>\n",
       "    <tr>\n",
       "      <th>0</th>\n",
       "      <td>IN</td>\n",
       "      <td>KA</td>\n",
       "      <td>Bangalore</td>\n",
       "    </tr>\n",
       "    <tr>\n",
       "      <th>1</th>\n",
       "      <td>NZ</td>\n",
       "      <td>N</td>\n",
       "      <td>Auckland</td>\n",
       "    </tr>\n",
       "    <tr>\n",
       "      <th>2</th>\n",
       "      <td>NG</td>\n",
       "      <td>LA</td>\n",
       "      <td>lagos</td>\n",
       "    </tr>\n",
       "    <tr>\n",
       "      <th>3</th>\n",
       "      <td>GB</td>\n",
       "      <td>MAN</td>\n",
       "      <td>Old Trafford</td>\n",
       "    </tr>\n",
       "    <tr>\n",
       "      <th>4</th>\n",
       "      <td>NZ</td>\n",
       "      <td>N</td>\n",
       "      <td>Auckland</td>\n",
       "    </tr>\n",
       "    <tr>\n",
       "      <th>5</th>\n",
       "      <td>US</td>\n",
       "      <td>NY</td>\n",
       "      <td>New York City</td>\n",
       "    </tr>\n",
       "    <tr>\n",
       "      <th>6</th>\n",
       "      <td>NZ</td>\n",
       "      <td>Unpecified</td>\n",
       "      <td>Unpecified</td>\n",
       "    </tr>\n",
       "    <tr>\n",
       "      <th>7</th>\n",
       "      <td>GB</td>\n",
       "      <td>LND</td>\n",
       "      <td>Unpecified</td>\n",
       "    </tr>\n",
       "    <tr>\n",
       "      <th>8</th>\n",
       "      <td>CA</td>\n",
       "      <td>ON</td>\n",
       "      <td>London</td>\n",
       "    </tr>\n",
       "    <tr>\n",
       "      <th>9</th>\n",
       "      <td>GB</td>\n",
       "      <td>BIR</td>\n",
       "      <td>Birmingham</td>\n",
       "    </tr>\n",
       "    <tr>\n",
       "      <th>10</th>\n",
       "      <td>US</td>\n",
       "      <td>TX</td>\n",
       "      <td>Plano</td>\n",
       "    </tr>\n",
       "    <tr>\n",
       "      <th>11</th>\n",
       "      <td>US</td>\n",
       "      <td>TX</td>\n",
       "      <td>Austin</td>\n",
       "    </tr>\n",
       "    <tr>\n",
       "      <th>12</th>\n",
       "      <td>Unpecified</td>\n",
       "      <td>Unpecified</td>\n",
       "      <td>Unpecified</td>\n",
       "    </tr>\n",
       "    <tr>\n",
       "      <th>13</th>\n",
       "      <td>GB</td>\n",
       "      <td>LND</td>\n",
       "      <td>London</td>\n",
       "    </tr>\n",
       "    <tr>\n",
       "      <th>14</th>\n",
       "      <td>US</td>\n",
       "      <td>NC</td>\n",
       "      <td>Durham</td>\n",
       "    </tr>\n",
       "  </tbody>\n",
       "</table>\n",
       "</div>"
      ],
      "text/plain": [
       "       country       state           city\n",
       "0           IN          KA      Bangalore\n",
       "1           NZ           N       Auckland\n",
       "2           NG          LA          lagos\n",
       "3           GB         MAN   Old Trafford\n",
       "4           NZ           N      Auckland \n",
       "5           US          NY  New York City\n",
       "6           NZ  Unpecified     Unpecified\n",
       "7           GB         LND     Unpecified\n",
       "8           CA          ON        London \n",
       "9           GB         BIR     Birmingham\n",
       "10          US          TX          Plano\n",
       "11          US          TX         Austin\n",
       "12  Unpecified  Unpecified     Unpecified\n",
       "13          GB         LND         London\n",
       "14          US          NC         Durham"
      ]
     },
     "execution_count": 25,
     "metadata": {},
     "output_type": "execute_result"
    }
   ],
   "source": [
    "test_location.head(15) #显示数据的前15个,查看处理结果"
   ]
  },
  {
   "cell_type": "code",
   "execution_count": 26,
   "id": "7bf86848",
   "metadata": {},
   "outputs": [],
   "source": [
    "#把新的数据加入到data,test数据框中\n",
    "cat_features += ['country', 'state', 'city']\n",
    "data = pd.concat([data, data_location], axis=1)\n",
    "test = pd.concat([test, test_location], axis=1)\n",
    "data.drop('location', axis=1, inplace=True)\n",
    "test.drop('location', axis=1, inplace=True)"
   ]
  },
  {
   "cell_type": "code",
   "execution_count": 27,
   "id": "d2dd7205",
   "metadata": {},
   "outputs": [
    {
     "name": "stdout",
     "output_type": "stream",
     "text": [
      "[['0', '0'], ['0', '0'], ['0', '0'], ['0', '0'], ['0', '0']]\n"
     ]
    }
   ],
   "source": [
    "#对salary数据进行处理\n",
    "salary_range = data.salary_range.copy()\n",
    "salary_range_test = test.salary_range.copy()\n",
    "salary_range.fillna('0-0', inplace=True)#0-0数据进行na处理\n",
    "salary_range_test.fillna('0-0', inplace=True)\n",
    "salary_range_sep = list(salary_range.str.split('-').values)\n",
    "print(salary_range_sep[:5])"
   ]
  },
  {
   "cell_type": "code",
   "execution_count": 28,
   "id": "d76031ca",
   "metadata": {},
   "outputs": [
    {
     "name": "stdout",
     "output_type": "stream",
     "text": [
      "[['0', '0'], ['0', '0'], ['0', '0'], ['0', '0'], ['0', '0']]\n"
     ]
    }
   ],
   "source": [
    "salary_range_sep_test = list(salary_range_test.str.split('-').values)\n",
    "print(salary_range_sep_test[:5])"
   ]
  },
  {
   "cell_type": "code",
   "execution_count": 29,
   "id": "b98da45e",
   "metadata": {},
   "outputs": [
    {
     "name": "stdout",
     "output_type": "stream",
     "text": [
      "6421 ['40000']\n"
     ]
    }
   ],
   "source": [
    "for range_ind, s_range in enumerate(salary_range_sep):\n",
    "    if len(s_range) < 2 or len(s_range) > 2:\n",
    "        print(range_ind, s_range)\n",
    "for range_ind, s_range in enumerate(salary_range_sep_test):\n",
    "    if len(s_range) < 2 or len(s_range) > 2:\n",
    "        print(range_ind, s_range)"
   ]
  },
  {
   "cell_type": "code",
   "execution_count": 30,
   "id": "c04267db",
   "metadata": {},
   "outputs": [],
   "source": [
    "salary_range_sep_test[6421] = ['40000', '40000']"
   ]
  },
  {
   "cell_type": "code",
   "execution_count": 31,
   "id": "412b4549",
   "metadata": {},
   "outputs": [
    {
     "name": "stdout",
     "output_type": "stream",
     "text": [
      "1017 ('11', 'Nov')\n",
      "1238 ('10', 'Nov')\n",
      "2718 ('10', 'Nov')\n",
      "2744 ('Oct', '15')\n",
      "3495 ('10', 'Oct')\n",
      "4096 ('10', 'Oct')\n",
      "4252 ('Jun', '18')\n",
      "4439 ('Dec', '25')\n",
      "5881 ('11', 'Dec')\n",
      "7145 ('8', 'Sep')\n"
     ]
    }
   ],
   "source": [
    "#对错误数据进行处理\n",
    "error_range_inds_test = []\n",
    "for range_ind, s_range in enumerate(salary_range_sep_test):\n",
    "    min_value, max_value = s_range\n",
    "    if not min_value.isdigit() or not max_value.isdigit():\n",
    "        print(range_ind, (min_value, max_value))\n",
    "        error_range_inds_test += [range_ind]"
   ]
  },
  {
   "cell_type": "code",
   "execution_count": 32,
   "id": "3eafd0a8",
   "metadata": {},
   "outputs": [
    {
     "name": "stdout",
     "output_type": "stream",
     "text": [
      "152 ('11', 'Nov')\n",
      "690 ('10', 'Oct')\n",
      "748 ('10', 'Oct')\n",
      "877 ('10', 'Nov')\n",
      "913 ('9', 'Dec')\n",
      "1262 ('10', 'Nov')\n",
      "2421 ('2', 'Apr')\n",
      "3468 ('10', 'Oct')\n",
      "4006 ('Oct', '20')\n",
      "4162 ('10', 'Oct')\n",
      "4554 ('2', 'Jun')\n",
      "5281 ('Oct', '20')\n",
      "5628 ('10', 'Nov')\n",
      "6552 ('4', 'Apr')\n",
      "9510 ('3', 'Apr')\n",
      "9759 ('4', 'Jun')\n"
     ]
    }
   ],
   "source": [
    "error_range_inds = []\n",
    "for range_ind, s_range in enumerate(salary_range_sep):\n",
    "    min_value, max_value = s_range\n",
    "    if not min_value.isdigit() or not max_value.isdigit():\n",
    "        print(range_ind, (min_value, max_value))\n",
    "        error_range_inds += [range_ind]"
   ]
  },
  {
   "cell_type": "code",
   "execution_count": 33,
   "id": "f9592a9d",
   "metadata": {},
   "outputs": [],
   "source": [
    "for range_ind in error_range_inds:\n",
    "    salary_range_sep[range_ind] = ['0', '0']\n",
    "for range_ind in error_range_inds_test:\n",
    "    salary_range_sep_test[range_ind] = ['0', '0']"
   ]
  },
  {
   "cell_type": "code",
   "execution_count": 34,
   "id": "d78ba818",
   "metadata": {},
   "outputs": [],
   "source": [
    "#生成salary的min, max\n",
    "data_salary_range = pd.DataFrame(np.array(salary_range_sep, dtype='int64'), \n",
    "                                 columns=['min_salary', 'max_salary'])\n",
    "test_salary_range = pd.DataFrame(np.array(salary_range_sep_test, dtype='int64'), \n",
    "                                 columns=['min_salary', 'max_salary'])\n",
    "data_salary_range['salary_specified'] = ((data_salary_range.min_salary != 0) | \n",
    "                                         (data_salary_range.max_salary != 0)).astype('int64')\n",
    "test_salary_range['salary_specified'] = ((test_salary_range.min_salary != 0) | \n",
    "                                         (test_salary_range.max_salary != 0)).astype('int64')\n",
    "num_features = ['min_salary', 'max_salary']#生成两个新属性min, max\n",
    "bin_features += ['salary_specified']#新加一个是否有薪水"
   ]
  },
  {
   "cell_type": "code",
   "execution_count": 35,
   "id": "9927558c",
   "metadata": {},
   "outputs": [],
   "source": [
    "#生成新的salary数据\n",
    "data = pd.concat([data, data_salary_range], axis=1)\n",
    "test = pd.concat([test, test_salary_range], axis=1)\n",
    "test.drop('salary_range', axis=1, inplace=True)\n",
    "data.drop('salary_range', axis=1, inplace=True)\n",
    "data.fillna('Unspecified', inplace=True)"
   ]
  },
  {
   "cell_type": "code",
   "execution_count": 36,
   "id": "9b71fbe0",
   "metadata": {},
   "outputs": [
    {
     "name": "stdout",
     "output_type": "stream",
     "text": [
      "<class 'pandas.core.frame.DataFrame'>\n",
      "RangeIndex: 9999 entries, 0 to 9998\n",
      "Data columns (total 25 columns):\n",
      " #   Column                     Non-Null Count  Dtype \n",
      "---  ------                     --------------  ----- \n",
      " 0   title                      9999 non-null   object\n",
      " 1   department                 9999 non-null   object\n",
      " 2   company_profile            9999 non-null   object\n",
      " 3   description                9999 non-null   object\n",
      " 4   requirements               9999 non-null   object\n",
      " 5   benefits                   9999 non-null   object\n",
      " 6   telecommuting              9999 non-null   int64 \n",
      " 7   has_company_logo           9999 non-null   int64 \n",
      " 8   has_questions              9999 non-null   int64 \n",
      " 9   employment_type            9999 non-null   object\n",
      " 10  required_experience        9999 non-null   object\n",
      " 11  required_education         9999 non-null   object\n",
      " 12  industry                   9999 non-null   object\n",
      " 13  function                   9999 non-null   object\n",
      " 14  fraudulent                 9999 non-null   int64 \n",
      " 15  company_profile_specified  9999 non-null   int32 \n",
      " 16  description_specified      9999 non-null   int32 \n",
      " 17  requirements_specified     9999 non-null   int32 \n",
      " 18  benefits_specified         9999 non-null   int32 \n",
      " 19  country                    9999 non-null   object\n",
      " 20  state                      9999 non-null   object\n",
      " 21  city                       9999 non-null   object\n",
      " 22  min_salary                 9999 non-null   int64 \n",
      " 23  max_salary                 9999 non-null   int64 \n",
      " 24  salary_specified           9999 non-null   int64 \n",
      "dtypes: int32(4), int64(7), object(14)\n",
      "memory usage: 1.8+ MB\n",
      "<class 'pandas.core.frame.DataFrame'>\n",
      "RangeIndex: 7881 entries, 0 to 7880\n",
      "Data columns (total 24 columns):\n",
      " #   Column                     Non-Null Count  Dtype \n",
      "---  ------                     --------------  ----- \n",
      " 0   title                      7881 non-null   object\n",
      " 1   department                 7881 non-null   object\n",
      " 2   company_profile            7881 non-null   object\n",
      " 3   description                7881 non-null   object\n",
      " 4   requirements               7881 non-null   object\n",
      " 5   benefits                   7881 non-null   object\n",
      " 6   telecommuting              7881 non-null   int64 \n",
      " 7   has_company_logo           7881 non-null   int64 \n",
      " 8   has_questions              7881 non-null   int64 \n",
      " 9   employment_type            7881 non-null   object\n",
      " 10  required_experience        7881 non-null   object\n",
      " 11  required_education         7881 non-null   object\n",
      " 12  industry                   7881 non-null   object\n",
      " 13  function                   7881 non-null   object\n",
      " 14  company_profile_specified  7881 non-null   int32 \n",
      " 15  description_specified      7881 non-null   int32 \n",
      " 16  requirements_specified     7881 non-null   int32 \n",
      " 17  benefits_specified         7881 non-null   int32 \n",
      " 18  country                    7881 non-null   object\n",
      " 19  state                      7881 non-null   object\n",
      " 20  city                       7881 non-null   object\n",
      " 21  min_salary                 7881 non-null   int64 \n",
      " 22  max_salary                 7881 non-null   int64 \n",
      " 23  salary_specified           7881 non-null   int64 \n",
      "dtypes: int32(4), int64(6), object(14)\n",
      "memory usage: 1.3+ MB\n"
     ]
    }
   ],
   "source": [
    "data.info()\n",
    "test.fillna('Unspecified', inplace=True)\n",
    "test.info()"
   ]
  },
  {
   "cell_type": "code",
   "execution_count": 55,
   "id": "629cee22",
   "metadata": {},
   "outputs": [
    {
     "data": {
      "text/html": [
       "<div>\n",
       "<style scoped>\n",
       "    .dataframe tbody tr th:only-of-type {\n",
       "        vertical-align: middle;\n",
       "    }\n",
       "\n",
       "    .dataframe tbody tr th {\n",
       "        vertical-align: top;\n",
       "    }\n",
       "\n",
       "    .dataframe thead th {\n",
       "        text-align: right;\n",
       "    }\n",
       "</style>\n",
       "<table border=\"1\" class=\"dataframe\">\n",
       "  <thead>\n",
       "    <tr style=\"text-align: right;\">\n",
       "      <th></th>\n",
       "      <th>company_profile_count_of_words</th>\n",
       "      <th>requirements_count_of_words</th>\n",
       "    </tr>\n",
       "  </thead>\n",
       "  <tbody>\n",
       "    <tr>\n",
       "      <th>0</th>\n",
       "      <td>1</td>\n",
       "      <td>124</td>\n",
       "    </tr>\n",
       "    <tr>\n",
       "      <th>1</th>\n",
       "      <td>1</td>\n",
       "      <td>58</td>\n",
       "    </tr>\n",
       "    <tr>\n",
       "      <th>2</th>\n",
       "      <td>112</td>\n",
       "      <td>50</td>\n",
       "    </tr>\n",
       "    <tr>\n",
       "      <th>3</th>\n",
       "      <td>140</td>\n",
       "      <td>78</td>\n",
       "    </tr>\n",
       "    <tr>\n",
       "      <th>4</th>\n",
       "      <td>1</td>\n",
       "      <td>23</td>\n",
       "    </tr>\n",
       "  </tbody>\n",
       "</table>\n",
       "</div>"
      ],
      "text/plain": [
       "   company_profile_count_of_words  requirements_count_of_words\n",
       "0                               1                          124\n",
       "1                               1                           58\n",
       "2                             112                           50\n",
       "3                             140                           78\n",
       "4                               1                           23"
      ]
     },
     "execution_count": 55,
     "metadata": {},
     "output_type": "execute_result"
    }
   ],
   "source": [
    "#生成新的company数据\n",
    "data['company_profile_count_of_words'] = data['company_profile'].astype(str).str.split(' ').apply(len)\n",
    "data['requirements_count_of_words'] = data['requirements'].astype(str).str.split(' ').apply(len)\n",
    "data.head()[['company_profile_count_of_words', 'requirements_count_of_words']]"
   ]
  },
  {
   "cell_type": "code",
   "execution_count": 54,
   "id": "ba576284",
   "metadata": {},
   "outputs": [
    {
     "data": {
      "text/html": [
       "<div>\n",
       "<style scoped>\n",
       "    .dataframe tbody tr th:only-of-type {\n",
       "        vertical-align: middle;\n",
       "    }\n",
       "\n",
       "    .dataframe tbody tr th {\n",
       "        vertical-align: top;\n",
       "    }\n",
       "\n",
       "    .dataframe thead th {\n",
       "        text-align: right;\n",
       "    }\n",
       "</style>\n",
       "<table border=\"1\" class=\"dataframe\">\n",
       "  <thead>\n",
       "    <tr style=\"text-align: right;\">\n",
       "      <th></th>\n",
       "      <th>company_profile_count_of_words</th>\n",
       "      <th>requirements_count_of_words</th>\n",
       "    </tr>\n",
       "  </thead>\n",
       "  <tbody>\n",
       "    <tr>\n",
       "      <th>0</th>\n",
       "      <td>402</td>\n",
       "      <td>377</td>\n",
       "    </tr>\n",
       "    <tr>\n",
       "      <th>1</th>\n",
       "      <td>283</td>\n",
       "      <td>39</td>\n",
       "    </tr>\n",
       "    <tr>\n",
       "      <th>2</th>\n",
       "      <td>1</td>\n",
       "      <td>23</td>\n",
       "    </tr>\n",
       "    <tr>\n",
       "      <th>3</th>\n",
       "      <td>131</td>\n",
       "      <td>15</td>\n",
       "    </tr>\n",
       "    <tr>\n",
       "      <th>4</th>\n",
       "      <td>181</td>\n",
       "      <td>79</td>\n",
       "    </tr>\n",
       "  </tbody>\n",
       "</table>\n",
       "</div>"
      ],
      "text/plain": [
       "   company_profile_count_of_words  requirements_count_of_words\n",
       "0                             402                          377\n",
       "1                             283                           39\n",
       "2                               1                           23\n",
       "3                             131                           15\n",
       "4                             181                           79"
      ]
     },
     "execution_count": 54,
     "metadata": {},
     "output_type": "execute_result"
    }
   ],
   "source": [
    "test['company_profile_count_of_words'] = test['company_profile'].astype(str).str.split(' ').apply(len)\n",
    "test['requirements_count_of_words'] = test['requirements'].astype(str).str.split(' ').apply(len)\n",
    "test.head()[['company_profile_count_of_words', 'requirements_count_of_words']]"
   ]
  },
  {
   "cell_type": "code",
   "execution_count": 38,
   "id": "6db8d95b",
   "metadata": {},
   "outputs": [],
   "source": [
    "#生成新的data数据\n",
    "num_features += ['company_profile_count_of_words', 'requirements_count_of_words']#增加新的数据特征\n",
    "data_1f = data[data.fraudulent == 1]\n",
    "original_data = data.copy()\n",
    "data = pd.concat([data] + [data_1f] * 7, axis=0)#增加新的数据特征data_1f"
   ]
  },
  {
   "cell_type": "code",
   "execution_count": 39,
   "id": "ca5334dc",
   "metadata": {},
   "outputs": [],
   "source": [
    "#导入机器学习模型库sklearn\n",
    "from sklearn.model_selection import StratifiedKFold\n",
    "from sklearn.compose import ColumnTransformer\n",
    "from sklearn.pipeline import Pipeline\n",
    "from sklearn.preprocessing import StandardScaler, OneHotEncoder\n",
    "from sklearn.linear_model import LogisticRegression\n",
    "from sklearn.model_selection import cross_validate\n",
    "from sklearn.feature_extraction.text import TfidfVectorizer"
   ]
  },
  {
   "cell_type": "code",
   "execution_count": 41,
   "id": "f86e167d",
   "metadata": {},
   "outputs": [],
   "source": [
    "skf = StratifiedKFold(n_splits=4, random_state=42,shuffle=True)#4折交叉验证\n",
    "X, y = data.drop('fraudulent', axis=1), data.fraudulent#特征变量x,决策变量y\n",
    "num_transformer = Pipeline(steps=[('scaler', StandardScaler())])#特征数值变量标准化\n",
    "cat_transformer = Pipeline(steps=[('onehot', OneHotEncoder(handle_unknown='ignore'))])#特征类别变量oneshot编码\n",
    "text_transformer = Pipeline(steps=[('tfidf', TfidfVectorizer(ngram_range=(1, 2)))])#特征文本变量转化为tf-idf的特征"
   ]
  },
  {
   "cell_type": "code",
   "execution_count": 42,
   "id": "99cfa350",
   "metadata": {},
   "outputs": [],
   "source": [
    "preprocessor = ColumnTransformer(\n",
    "    transformers=[\n",
    "        ('num', num_transformer, num_features),\n",
    "        ('cat', cat_transformer, cat_features),\n",
    "        *[(feature_name, text_transformer, feature_name) \n",
    "          for feature_name in text_features]\n",
    "    ]#ColumnTransformer将数据转换为机器学习模型所需的格式\n",
    ")"
   ]
  },
  {
   "cell_type": "code",
   "execution_count": 50,
   "id": "b36097b2",
   "metadata": {},
   "outputs": [],
   "source": [
    "log_reg_pipe = Pipeline(steps=[('preprocessor', preprocessor),\n",
    "                               ('classifier', LogisticRegression(max_iter=3000))])#对预处理和分类logistic回归建模步骤进行流式化封装和管理"
   ]
  },
  {
   "cell_type": "code",
   "execution_count": 51,
   "id": "e9a87412",
   "metadata": {},
   "outputs": [],
   "source": [
    "model=log_reg_pipe.fit(X,y)#建立logistic机器学习模型"
   ]
  },
  {
   "cell_type": "code",
   "execution_count": 56,
   "id": "7eaa080f",
   "metadata": {},
   "outputs": [
    {
     "data": {
      "text/plain": [
       "(7881, 2)"
      ]
     },
     "execution_count": 56,
     "metadata": {},
     "output_type": "execute_result"
    }
   ],
   "source": [
    "result=model.predict(test)#模型预测拟合\n",
    "result_pro=model.predict_proba(test)#模型预测拟合概率\n",
    "result_pro.shape"
   ]
  },
  {
   "cell_type": "code",
   "execution_count": 57,
   "id": "bd719c2c",
   "metadata": {},
   "outputs": [],
   "source": [
    "np.savetxt(\"result.csv\", result_pro, delimiter=\",\")#保存模型预测拟合概率"
   ]
  },
  {
   "cell_type": "code",
   "execution_count": null,
   "id": "8b579f2e",
   "metadata": {},
   "outputs": [],
   "source": []
  }
 ],
 "metadata": {
  "kernelspec": {
   "display_name": "Python 3 (ipykernel)",
   "language": "python",
   "name": "python3"
  },
  "language_info": {
   "codemirror_mode": {
    "name": "ipython",
    "version": 3
   },
   "file_extension": ".py",
   "mimetype": "text/x-python",
   "name": "python",
   "nbconvert_exporter": "python",
   "pygments_lexer": "ipython3",
   "version": "3.9.13"
  }
 },
 "nbformat": 4,
 "nbformat_minor": 5
}
